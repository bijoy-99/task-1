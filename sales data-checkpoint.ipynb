{
 "cells": [
  {
   "cell_type": "code",
   "execution_count": 3,
   "id": "0562a568-ad7d-4de4-9be4-894ca60b571b",
   "metadata": {},
   "outputs": [],
   "source": [
    "# import python libraries\n",
    "\n",
    "import numpy as np \n",
    "import pandas as pd \n",
    "import matplotlib.pyplot as plt # visualizing data\n",
    "%matplotlib inline\n",
    "import seaborn as sns"
   ]
  },
  {
   "cell_type": "code",
   "execution_count": 5,
   "id": "ab2ac0ef-e384-4a68-838c-2f219e6717ba",
   "metadata": {},
   "outputs": [],
   "source": [
    "# import csv file\n",
    "df = pd.read_csv('sales_data_sample.csv', encoding= 'unicode_escape')"
   ]
  },
  {
   "cell_type": "code",
   "execution_count": 19,
   "id": "bcdf81b0-4807-44fa-91b6-7525ea946ec6",
   "metadata": {},
   "outputs": [
    {
     "name": "stdout",
     "output_type": "stream",
     "text": [
      "<class 'pandas.core.frame.DataFrame'>\n",
      "RangeIndex: 1500 entries, 0 to 1499\n",
      "Data columns (total 10 columns):\n",
      " #   Column            Non-Null Count  Dtype         \n",
      "---  ------            --------------  -----         \n",
      " 0   Order_ID          1500 non-null   object        \n",
      " 1   Order_Date        1500 non-null   datetime64[ns]\n",
      " 2   Customer_Name     1500 non-null   object        \n",
      " 3   Customer_City     1500 non-null   object        \n",
      " 4   Product_Category  1500 non-null   object        \n",
      " 5   Product_Name      1500 non-null   object        \n",
      " 6   Quantity          1500 non-null   int64         \n",
      " 7   Unit_Price        1500 non-null   float64       \n",
      " 8   Payment_Method    1500 non-null   object        \n",
      " 9   Total_Price       1500 non-null   float64       \n",
      "dtypes: datetime64[ns](1), float64(2), int64(1), object(6)\n",
      "memory usage: 117.3+ KB\n"
     ]
    }
   ],
   "source": [
    "df.info()"
   ]
  },
  {
   "cell_type": "code",
   "execution_count": 18,
   "id": "690c8032-f151-4a80-b5db-6d7c6fa27450",
   "metadata": {},
   "outputs": [],
   "source": [
    "df['Order_Date'] = pd.to_datetime(df['Order_Date'])\n"
   ]
  },
  {
   "cell_type": "code",
   "execution_count": 7,
   "id": "e2a10b0d-d149-4d73-954e-ec28c9dd2e5f",
   "metadata": {},
   "outputs": [
    {
     "data": {
      "text/plain": [
       "(1500, 10)"
      ]
     },
     "execution_count": 7,
     "metadata": {},
     "output_type": "execute_result"
    }
   ],
   "source": [
    "df.shape"
   ]
  },
  {
   "cell_type": "code",
   "execution_count": 9,
   "id": "6058fc1c-e95a-4269-b5cf-7acb66698952",
   "metadata": {},
   "outputs": [
    {
     "data": {
      "text/html": [
       "<div>\n",
       "<style scoped>\n",
       "    .dataframe tbody tr th:only-of-type {\n",
       "        vertical-align: middle;\n",
       "    }\n",
       "\n",
       "    .dataframe tbody tr th {\n",
       "        vertical-align: top;\n",
       "    }\n",
       "\n",
       "    .dataframe thead th {\n",
       "        text-align: right;\n",
       "    }\n",
       "</style>\n",
       "<table border=\"1\" class=\"dataframe\">\n",
       "  <thead>\n",
       "    <tr style=\"text-align: right;\">\n",
       "      <th></th>\n",
       "      <th>Order_ID</th>\n",
       "      <th>Order_Date</th>\n",
       "      <th>Customer_Name</th>\n",
       "      <th>Customer_City</th>\n",
       "      <th>Product_Category</th>\n",
       "      <th>Product_Name</th>\n",
       "      <th>Quantity</th>\n",
       "      <th>Unit_Price</th>\n",
       "      <th>Payment_Method</th>\n",
       "      <th>Total_Price</th>\n",
       "    </tr>\n",
       "  </thead>\n",
       "  <tbody>\n",
       "    <tr>\n",
       "      <th>0</th>\n",
       "      <td>fde82797-d400-4414-8cc8-e7b6d916eef4</td>\n",
       "      <td>2023-08-04</td>\n",
       "      <td>Christina Smith</td>\n",
       "      <td>South Paulchester</td>\n",
       "      <td>Home Appliances</td>\n",
       "      <td>Laptop</td>\n",
       "      <td>5</td>\n",
       "      <td>750.61</td>\n",
       "      <td>Cash on Delivery</td>\n",
       "      <td>3753.05</td>\n",
       "    </tr>\n",
       "    <tr>\n",
       "      <th>1</th>\n",
       "      <td>d380b3a1-7503-4870-a797-94feb81d1c78</td>\n",
       "      <td>2023-08-04</td>\n",
       "      <td>Jillian Hammond</td>\n",
       "      <td>East Elizabeth</td>\n",
       "      <td>Home Appliances</td>\n",
       "      <td>T-Shirt</td>\n",
       "      <td>7</td>\n",
       "      <td>487.46</td>\n",
       "      <td>Net Banking</td>\n",
       "      <td>3412.22</td>\n",
       "    </tr>\n",
       "    <tr>\n",
       "      <th>2</th>\n",
       "      <td>03507640-bbdf-4905-935b-8bfb8f538650</td>\n",
       "      <td>2023-08-04</td>\n",
       "      <td>Ronnie Benson</td>\n",
       "      <td>East Brittneyhaven</td>\n",
       "      <td>Books</td>\n",
       "      <td>Headphones</td>\n",
       "      <td>6</td>\n",
       "      <td>169.37</td>\n",
       "      <td>Net Banking</td>\n",
       "      <td>1016.22</td>\n",
       "    </tr>\n",
       "    <tr>\n",
       "      <th>3</th>\n",
       "      <td>5ce2c745-f00c-4bb6-be91-cf100d284e09</td>\n",
       "      <td>2023-08-05</td>\n",
       "      <td>Jesse Cooke</td>\n",
       "      <td>Paulburgh</td>\n",
       "      <td>Home Appliances</td>\n",
       "      <td>Headphones</td>\n",
       "      <td>10</td>\n",
       "      <td>369.66</td>\n",
       "      <td>Net Banking</td>\n",
       "      <td>3696.60</td>\n",
       "    </tr>\n",
       "    <tr>\n",
       "      <th>4</th>\n",
       "      <td>0eafd4a7-a216-4e7a-a7d6-5531d9338016</td>\n",
       "      <td>2023-08-06</td>\n",
       "      <td>Shannon Baker</td>\n",
       "      <td>Estradashire</td>\n",
       "      <td>Electronics</td>\n",
       "      <td>Novel</td>\n",
       "      <td>1</td>\n",
       "      <td>108.38</td>\n",
       "      <td>Cash on Delivery</td>\n",
       "      <td>108.38</td>\n",
       "    </tr>\n",
       "    <tr>\n",
       "      <th>5</th>\n",
       "      <td>ed032085-1b26-4098-86be-17c271263f0c</td>\n",
       "      <td>2023-08-06</td>\n",
       "      <td>Anthony Simmons</td>\n",
       "      <td>Port Stephanieton</td>\n",
       "      <td>Home Appliances</td>\n",
       "      <td>Laptop</td>\n",
       "      <td>8</td>\n",
       "      <td>172.94</td>\n",
       "      <td>Debit Card</td>\n",
       "      <td>1383.52</td>\n",
       "    </tr>\n",
       "    <tr>\n",
       "      <th>6</th>\n",
       "      <td>fa4a442a-9ecd-40db-962d-8017866e929d</td>\n",
       "      <td>2023-08-07</td>\n",
       "      <td>Dustin Nicholson</td>\n",
       "      <td>Ianville</td>\n",
       "      <td>Home Appliances</td>\n",
       "      <td>T-Shirt</td>\n",
       "      <td>1</td>\n",
       "      <td>741.61</td>\n",
       "      <td>Net Banking</td>\n",
       "      <td>741.61</td>\n",
       "    </tr>\n",
       "    <tr>\n",
       "      <th>7</th>\n",
       "      <td>abacc60c-0c1a-4c9e-9489-963b6a42a1c0</td>\n",
       "      <td>2023-08-09</td>\n",
       "      <td>Michael Dixon</td>\n",
       "      <td>Huangside</td>\n",
       "      <td>Home Appliances</td>\n",
       "      <td>Refrigerator</td>\n",
       "      <td>3</td>\n",
       "      <td>417.29</td>\n",
       "      <td>Debit Card</td>\n",
       "      <td>1251.87</td>\n",
       "    </tr>\n",
       "    <tr>\n",
       "      <th>8</th>\n",
       "      <td>37117244-9d75-4ec2-9fc8-7b8a310cb65a</td>\n",
       "      <td>2023-08-10</td>\n",
       "      <td>Colton Smith</td>\n",
       "      <td>Gregoryside</td>\n",
       "      <td>Books</td>\n",
       "      <td>Tablet</td>\n",
       "      <td>4</td>\n",
       "      <td>486.44</td>\n",
       "      <td>UPI</td>\n",
       "      <td>1945.76</td>\n",
       "    </tr>\n",
       "    <tr>\n",
       "      <th>9</th>\n",
       "      <td>21548230-140d-4d5c-b221-d031edb52678</td>\n",
       "      <td>2023-08-10</td>\n",
       "      <td>Kristen Park</td>\n",
       "      <td>Antonioville</td>\n",
       "      <td>Home Appliances</td>\n",
       "      <td>Smartphone</td>\n",
       "      <td>2</td>\n",
       "      <td>316.08</td>\n",
       "      <td>Debit Card</td>\n",
       "      <td>632.16</td>\n",
       "    </tr>\n",
       "  </tbody>\n",
       "</table>\n",
       "</div>"
      ],
      "text/plain": [
       "                               Order_ID  Order_Date     Customer_Name  \\\n",
       "0  fde82797-d400-4414-8cc8-e7b6d916eef4  2023-08-04   Christina Smith   \n",
       "1  d380b3a1-7503-4870-a797-94feb81d1c78  2023-08-04   Jillian Hammond   \n",
       "2  03507640-bbdf-4905-935b-8bfb8f538650  2023-08-04     Ronnie Benson   \n",
       "3  5ce2c745-f00c-4bb6-be91-cf100d284e09  2023-08-05       Jesse Cooke   \n",
       "4  0eafd4a7-a216-4e7a-a7d6-5531d9338016  2023-08-06     Shannon Baker   \n",
       "5  ed032085-1b26-4098-86be-17c271263f0c  2023-08-06   Anthony Simmons   \n",
       "6  fa4a442a-9ecd-40db-962d-8017866e929d  2023-08-07  Dustin Nicholson   \n",
       "7  abacc60c-0c1a-4c9e-9489-963b6a42a1c0  2023-08-09     Michael Dixon   \n",
       "8  37117244-9d75-4ec2-9fc8-7b8a310cb65a  2023-08-10      Colton Smith   \n",
       "9  21548230-140d-4d5c-b221-d031edb52678  2023-08-10      Kristen Park   \n",
       "\n",
       "        Customer_City Product_Category  Product_Name  Quantity  Unit_Price  \\\n",
       "0   South Paulchester  Home Appliances        Laptop         5      750.61   \n",
       "1      East Elizabeth  Home Appliances       T-Shirt         7      487.46   \n",
       "2  East Brittneyhaven            Books    Headphones         6      169.37   \n",
       "3           Paulburgh  Home Appliances    Headphones        10      369.66   \n",
       "4        Estradashire      Electronics         Novel         1      108.38   \n",
       "5   Port Stephanieton  Home Appliances        Laptop         8      172.94   \n",
       "6            Ianville  Home Appliances       T-Shirt         1      741.61   \n",
       "7           Huangside  Home Appliances  Refrigerator         3      417.29   \n",
       "8         Gregoryside            Books        Tablet         4      486.44   \n",
       "9        Antonioville  Home Appliances    Smartphone         2      316.08   \n",
       "\n",
       "     Payment_Method  Total_Price  \n",
       "0  Cash on Delivery      3753.05  \n",
       "1       Net Banking      3412.22  \n",
       "2       Net Banking      1016.22  \n",
       "3       Net Banking      3696.60  \n",
       "4  Cash on Delivery       108.38  \n",
       "5        Debit Card      1383.52  \n",
       "6       Net Banking       741.61  \n",
       "7        Debit Card      1251.87  \n",
       "8               UPI      1945.76  \n",
       "9        Debit Card       632.16  "
      ]
     },
     "execution_count": 9,
     "metadata": {},
     "output_type": "execute_result"
    }
   ],
   "source": [
    "df.head(10)"
   ]
  },
  {
   "cell_type": "code",
   "execution_count": 10,
   "id": "3aad45b5-29c8-46e0-907a-e1f60063648c",
   "metadata": {},
   "outputs": [
    {
     "data": {
      "text/plain": [
       "Order_ID            0\n",
       "Order_Date          0\n",
       "Customer_Name       0\n",
       "Customer_City       0\n",
       "Product_Category    0\n",
       "Product_Name        0\n",
       "Quantity            0\n",
       "Unit_Price          0\n",
       "Payment_Method      0\n",
       "Total_Price         0\n",
       "dtype: int64"
      ]
     },
     "execution_count": 10,
     "metadata": {},
     "output_type": "execute_result"
    }
   ],
   "source": [
    "#check for null values\n",
    "pd.isnull(df).sum()"
   ]
  },
  {
   "cell_type": "code",
   "execution_count": 11,
   "id": "6db69341-cb6b-49bb-b0ac-84a9719eea22",
   "metadata": {},
   "outputs": [
    {
     "data": {
      "text/html": [
       "<div>\n",
       "<style scoped>\n",
       "    .dataframe tbody tr th:only-of-type {\n",
       "        vertical-align: middle;\n",
       "    }\n",
       "\n",
       "    .dataframe tbody tr th {\n",
       "        vertical-align: top;\n",
       "    }\n",
       "\n",
       "    .dataframe thead th {\n",
       "        text-align: right;\n",
       "    }\n",
       "</style>\n",
       "<table border=\"1\" class=\"dataframe\">\n",
       "  <thead>\n",
       "    <tr style=\"text-align: right;\">\n",
       "      <th></th>\n",
       "      <th>Quantity</th>\n",
       "      <th>Unit_Price</th>\n",
       "      <th>Total_Price</th>\n",
       "    </tr>\n",
       "  </thead>\n",
       "  <tbody>\n",
       "    <tr>\n",
       "      <th>count</th>\n",
       "      <td>1500.000000</td>\n",
       "      <td>1500.000000</td>\n",
       "      <td>1500.000000</td>\n",
       "    </tr>\n",
       "    <tr>\n",
       "      <th>mean</th>\n",
       "      <td>5.423333</td>\n",
       "      <td>511.069373</td>\n",
       "      <td>2767.673200</td>\n",
       "    </tr>\n",
       "    <tr>\n",
       "      <th>std</th>\n",
       "      <td>2.828920</td>\n",
       "      <td>286.889811</td>\n",
       "      <td>2278.984609</td>\n",
       "    </tr>\n",
       "    <tr>\n",
       "      <th>min</th>\n",
       "      <td>1.000000</td>\n",
       "      <td>10.880000</td>\n",
       "      <td>25.680000</td>\n",
       "    </tr>\n",
       "    <tr>\n",
       "      <th>25%</th>\n",
       "      <td>3.000000</td>\n",
       "      <td>254.102500</td>\n",
       "      <td>863.492500</td>\n",
       "    </tr>\n",
       "    <tr>\n",
       "      <th>50%</th>\n",
       "      <td>5.000000</td>\n",
       "      <td>534.355000</td>\n",
       "      <td>2138.760000</td>\n",
       "    </tr>\n",
       "    <tr>\n",
       "      <th>75%</th>\n",
       "      <td>8.000000</td>\n",
       "      <td>755.932500</td>\n",
       "      <td>4200.320000</td>\n",
       "    </tr>\n",
       "    <tr>\n",
       "      <th>max</th>\n",
       "      <td>10.000000</td>\n",
       "      <td>999.830000</td>\n",
       "      <td>9997.800000</td>\n",
       "    </tr>\n",
       "  </tbody>\n",
       "</table>\n",
       "</div>"
      ],
      "text/plain": [
       "          Quantity   Unit_Price  Total_Price\n",
       "count  1500.000000  1500.000000  1500.000000\n",
       "mean      5.423333   511.069373  2767.673200\n",
       "std       2.828920   286.889811  2278.984609\n",
       "min       1.000000    10.880000    25.680000\n",
       "25%       3.000000   254.102500   863.492500\n",
       "50%       5.000000   534.355000  2138.760000\n",
       "75%       8.000000   755.932500  4200.320000\n",
       "max      10.000000   999.830000  9997.800000"
      ]
     },
     "execution_count": 11,
     "metadata": {},
     "output_type": "execute_result"
    }
   ],
   "source": [
    "# describe() method returns description of the data in the DataFrame (i.e. count, mean, std, etc)\n",
    "df.describe()"
   ]
  },
  {
   "cell_type": "code",
   "execution_count": 20,
   "id": "de82bba0-55bc-48a6-90d0-db054e7dbb9e",
   "metadata": {},
   "outputs": [
    {
     "name": "stdout",
     "output_type": "stream",
     "text": [
      "<class 'pandas.core.frame.DataFrame'>\n",
      "RangeIndex: 1500 entries, 0 to 1499\n",
      "Data columns (total 10 columns):\n",
      " #   Column            Non-Null Count  Dtype         \n",
      "---  ------            --------------  -----         \n",
      " 0   Order_ID          1500 non-null   object        \n",
      " 1   Order_Date        1500 non-null   datetime64[ns]\n",
      " 2   Customer_Name     1500 non-null   object        \n",
      " 3   Customer_City     1500 non-null   object        \n",
      " 4   Product_Category  1500 non-null   object        \n",
      " 5   Product_Name      1500 non-null   object        \n",
      " 6   Quantity          1500 non-null   int64         \n",
      " 7   Unit_Price        1500 non-null   float64       \n",
      " 8   Payment_Method    1500 non-null   object        \n",
      " 9   Total_Price       1500 non-null   float64       \n",
      "dtypes: datetime64[ns](1), float64(2), int64(1), object(6)\n",
      "memory usage: 117.3+ KB\n"
     ]
    }
   ],
   "source": [
    "df.info()"
   ]
  },
  {
   "cell_type": "code",
   "execution_count": 21,
   "id": "dcbf3a7f-0686-4b8b-9f43-18e8d2121347",
   "metadata": {},
   "outputs": [
    {
     "data": {
      "text/plain": [
       "np.False_"
      ]
     },
     "execution_count": 21,
     "metadata": {},
     "output_type": "execute_result"
    }
   ],
   "source": [
    "df.duplicated().any()\n"
   ]
  },
  {
   "cell_type": "code",
   "execution_count": 22,
   "id": "1afa373b-efba-4b26-9edb-e989b0a22825",
   "metadata": {},
   "outputs": [
    {
     "data": {
      "text/plain": [
       "0       False\n",
       "1       False\n",
       "2       False\n",
       "3       False\n",
       "4       False\n",
       "        ...  \n",
       "1495    False\n",
       "1496    False\n",
       "1497    False\n",
       "1498    False\n",
       "1499    False\n",
       "Length: 1500, dtype: bool"
      ]
     },
     "execution_count": 22,
     "metadata": {},
     "output_type": "execute_result"
    }
   ],
   "source": [
    "df.duplicated(subset=['Order_ID'])\n"
   ]
  }
 ],
 "metadata": {
  "kernelspec": {
   "display_name": "Python 3 (ipykernel)",
   "language": "python",
   "name": "python3"
  },
  "language_info": {
   "codemirror_mode": {
    "name": "ipython",
    "version": 3
   },
   "file_extension": ".py",
   "mimetype": "text/x-python",
   "name": "python",
   "nbconvert_exporter": "python",
   "pygments_lexer": "ipython3",
   "version": "3.13.3"
  }
 },
 "nbformat": 4,
 "nbformat_minor": 5
}
